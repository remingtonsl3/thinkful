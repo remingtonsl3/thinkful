{
 "cells": [
  {
   "cell_type": "markdown",
   "metadata": {},
   "source": [
    "# Drill Exercises in Probability\n",
    "\n",
    "*1. Calculate the probability of flipping a balanced coin four times and getting each pattern: HTTH, HHHH and TTHH.*\n",
    "    \n",
    "    Since each of the coin tosses is independent, and the probability of a coin toss is 1/2, the probability of any one pattern is:\n",
    "    \n",
    "1/2 * 1/2 * 1/2 * 1/2 = 1/16, 0.0625. All of patterns have the same probability.\n",
    "\n",
    "*2. If a list of people has 24 women and 21 men, then the probability of choosing a man from the list is 21/45. What is the probability of not choosing a man?*\n",
    "    \n",
    "    24/45, or 1-(21/45), or 0.533\n",
    "\n",
    "*3. The probability that Bernice will travel by plane sometime in the next year is 10%. The probability of a plane crash at any time is .005%. What is the probability that Bernice will be in a plane crash sometime in the next year?*\n",
    "    \n",
    "    Since they are independent, it's the product of the two probabilities, 0.1 * 0.00005 = 0.000005 = .0005%\n",
    "\n",
    "*4. A data scientist wants to study the behavior of users on the company website. Each time a user clicks on a link on the website, there is a 5% chance that the user will be asked to complete a short survey about their behavior on the website. The data scientist uses the survey data to conclude that, on average, users spend 15 minutes surfing the company website before moving on to other things. What is wrong with this conclusion?*\n",
    "    \n",
    "    One obvious problem is that the survey is that it will most likely be given to heavy users of the site (those that click links, and those that use it enough to get caught in the 5% survey pool). Therefore, it is does not follow that any results from the survey would apply to average users.\n",
    "    \n"
   ]
  },
  {
   "cell_type": "markdown",
   "metadata": {},
   "source": [
    "\n"
   ]
  },
  {
   "cell_type": "code",
   "execution_count": null,
   "metadata": {},
   "outputs": [],
   "source": []
  }
 ],
 "metadata": {
  "kernelspec": {
   "display_name": "Python 3",
   "language": "python",
   "name": "python3"
  },
  "language_info": {
   "codemirror_mode": {
    "name": "ipython",
    "version": 3
   },
   "file_extension": ".py",
   "mimetype": "text/x-python",
   "name": "python",
   "nbconvert_exporter": "python",
   "pygments_lexer": "ipython3",
   "version": "3.6.5"
  }
 },
 "nbformat": 4,
 "nbformat_minor": 2
}
