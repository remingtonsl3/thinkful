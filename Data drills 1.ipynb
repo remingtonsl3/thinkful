{
 "cells": [
  {
   "cell_type": "markdown",
   "metadata": {},
   "source": [
    "# Drills - Describing Data\n"
   ]
  },
  {
   "cell_type": "code",
   "execution_count": 51,
   "metadata": {},
   "outputs": [],
   "source": [
    "# importing libraries for all below\n",
    "\n",
    "import pandas as pd\n",
    "import numpy as np\n",
    "import statistics"
   ]
  },
  {
   "cell_type": "markdown",
   "metadata": {},
   "source": [
    "### Question 1"
   ]
  },
  {
   "cell_type": "markdown",
   "metadata": {},
   "source": [
    "\n",
    "\n",
    "Mean = X = (6+8+8+10+11+12+14)/7 = 69/7 = **9.86**\n",
    "\n",
    "Median is middle value, i.e., **10**\n",
    "\n",
    "Mode is 8.\n",
    "\n",
    "This is a population, so values are:\n",
    "\n",
    "Variance = ((6-X)^2 + (8-X)^2 + (8-X)^2 + (10-X)^2 + (11-X)^2 + (12-X)^2 + (14-X)^2)/7 =  **6.41**\n",
    "\n",
    "Standard Deviation = Variance ^ 0.5 = **2.53**\n",
    "\n",
    "Standard Error doesn't applay here, since it's not a sample.\n",
    "\n",
    "This is a population, should we should divide by N, not n-1. However, they ask for standard error, so it seems like they want us to use the sample variance here.\n",
    "\n",
    "Variance = ((6-X)^2 + (8-X)^2 + (8-X)^2 + (10-X)^2 + (11-X)^2 + (12-X)^2 + (14-X)^2)/(7-1) = **7.48** \n",
    "\n",
    "Standard Deviaition = 7.5 ^ 0.5 = **2.73**\n",
    "\n",
    "Standard Error = 2.74 / (7^0.5) = **1.03**\n",
    "\n"
   ]
  },
  {
   "cell_type": "code",
   "execution_count": 52,
   "metadata": {},
   "outputs": [
    {
     "name": "stdout",
     "output_type": "stream",
     "text": [
      "9.857142857142858\n",
      "10.0\n",
      "8\n",
      "variance:  6.408163265306122\n",
      "Std Dev:  2.531435020952764\n",
      "SAMPLE\n",
      "variance:  7.476190476190475\n",
      "Std Dev:  2.734262327610589\n",
      "1.0334540197243192\n"
     ]
    }
   ],
   "source": [
    "\n",
    "bradys = pd.DataFrame()\n",
    "\n",
    "bradys['age'] = [6, 8, 8, 10, 11, 12, 14]\n",
    "\n",
    "b_mean = np.mean(bradys['age']) \n",
    "b_median = np.median(bradys['age'])\n",
    "b_mode = statistics.mode(bradys['age'])\n",
    "b_var_pop = np.var(bradys['age'])\n",
    "b_sd_pop = np.std(bradys['age'])\n",
    "\n",
    "\n",
    "b_var = np.var(bradys['age'], ddof=1)\n",
    "b_sd = np.std(bradys['age'], ddof=1)\n",
    "b_se = b_sd / np.sqrt(len(bradys['age']))\n",
    "\n",
    "print(b_mean)\n",
    "print(b_median)\n",
    "print(b_mode)\n",
    "\n",
    "print(\"variance: \",b_var_pop)\n",
    "print(\"Std Dev: \", b_sd_pop)\n",
    "\n",
    "print('SAMPLE')\n",
    "print(\"variance: \",b_var)\n",
    "print(\"Std Dev: \", b_sd)\n",
    "print(b_se)"
   ]
  },
  {
   "cell_type": "markdown",
   "metadata": {},
   "source": [
    "### Question 2\n"
   ]
  },
  {
   "cell_type": "markdown",
   "metadata": {},
   "source": [
    "Given these estimates, I'd use the mean. There are no huge outliers that make the median more useful. For the variance, I'd use the population standard deviation. It's a population, not a sample, and the standard deviation gives me a better feel than the variance as far as what the data is doing since it is in the same units.\n",
    "\n",
    "Of course, in real life no one would include Cousin Oliver in any meaningful Brady Bunch analysis.\n",
    "\n"
   ]
  },
  {
   "cell_type": "markdown",
   "metadata": {},
   "source": [
    "### Question 3 - Cindy has a birthday\n",
    "\n",
    "Now the data set {7, 8, 8, 10, 11, 12, 14}\n",
    "\n",
    "\n",
    "Mean = X = (7+8+8+10+11+12+14)/7 = 70/7 = **10**\n",
    "\n",
    "Median is middle value, i.e., **10**\n",
    "\n",
    "This is a population, so values are:\n",
    "\n",
    "Variance = ((7-X)^2 + (8-X)^2 + (8-X)^2 + (10-X)^2 + (11-X)^2 + (12-X)^2 + (14-X)^2)/7 =  **5.42**\n",
    "\n",
    "Standard Deviation = Variance ^ 0.5 = **2.32**\n",
    "\n",
    "The mean went up. The variance and standard deviation went down, which makes sense, since the one of the values got closer to the mean."
   ]
  },
  {
   "cell_type": "code",
   "execution_count": 53,
   "metadata": {},
   "outputs": [
    {
     "name": "stdout",
     "output_type": "stream",
     "text": [
      "10.0\n",
      "10.0\n",
      "8\n",
      "variance:  5.428571428571429\n",
      "Std Dev:  2.32992949004287\n",
      "SAMPLE\n",
      "variance:  6.333333333333333\n",
      "Std Dev:  2.516611478423583\n",
      "0.9511897312113418\n"
     ]
    }
   ],
   "source": [
    "# recalcs for question 3\n",
    "bradys = pd.DataFrame()\n",
    "\n",
    "bradys['age'] = [7, 8, 8, 10, 11, 12, 14]\n",
    "\n",
    "b_mean = np.mean(bradys['age']) \n",
    "b_median = np.median(bradys['age'])\n",
    "b_mode = statistics.mode(bradys['age'])\n",
    "b_var_pop = np.var(bradys['age'])\n",
    "b_sd_pop = np.std(bradys['age'])\n",
    "\n",
    "\n",
    "b_var = np.var(bradys['age'], ddof=1)\n",
    "b_sd = np.std(bradys['age'], ddof=1)\n",
    "b_se = b_sd / np.sqrt(len(bradys['age']))\n",
    "\n",
    "print(b_mean)\n",
    "print(b_median)\n",
    "print(b_mode)\n",
    "\n",
    "print(\"variance: \",b_var_pop)\n",
    "print(\"Std Dev: \", b_sd_pop)\n",
    "\n",
    "print('SAMPLE')\n",
    "print(\"variance: \",b_var)\n",
    "print(\"Std Dev: \", b_sd)\n",
    "print(b_se)"
   ]
  },
  {
   "cell_type": "markdown",
   "metadata": {},
   "source": [
    "### Question four - replacing Oliver\n",
    "(question wasn't 100% clear, so I used the original Cindy age)\n",
    "\n",
    "\n",
    "Mean = X = (1+6+8+10+11+12+14)/7 = 69/7 = **8.86**\n",
    "\n",
    "Median is middle value, i.e., **10**\n",
    "\n",
    "This is a population, so values are:\n",
    "\n",
    "Variance = ((6-X)^2 + (8-X)^2 + (8-X)^2 + (10-X)^2 + (11-X)^2 + (12-X)^2 + (14-X)^2)/7 =  **16.1**\n",
    "\n",
    "Standard Deviation = Variance ^ 0.5 = **4.0**\n",
    "\n",
    "Standard Error doesn't applay here, since it's not a sample.\n",
    "\n",
    "**I don't know that it is such a big outlier that I'd switch to the median for a description of central tendancy, but it certainly is worth noting both since the majority of the kids are older.**"
   ]
  },
  {
   "cell_type": "code",
   "execution_count": 54,
   "metadata": {},
   "outputs": [
    {
     "name": "stdout",
     "output_type": "stream",
     "text": [
      "8.857142857142858\n",
      "10.0\n",
      "8\n",
      "variance:  16.122448979591837\n",
      "Std Dev:  4.015276949301485\n",
      "SAMPLE\n",
      "variance:  18.80952380952381\n",
      "Std Dev:  4.3369947901195145\n",
      "1.6392299502912862\n"
     ]
    }
   ],
   "source": [
    "# recalcs for question 4\n",
    "bradys = pd.DataFrame()\n",
    "\n",
    "bradys['age'] = [6, 1, 8, 10, 11, 12, 14]\n",
    "\n",
    "b_mean = np.mean(bradys['age']) \n",
    "b_median = np.median(bradys['age'])\n",
    "#b_mode = statistics.mode(bradys['age'])\n",
    "b_var_pop = np.var(bradys['age'])\n",
    "b_sd_pop = np.std(bradys['age'])\n",
    "\n",
    "\n",
    "b_var = np.var(bradys['age'], ddof=1)\n",
    "b_sd = np.std(bradys['age'], ddof=1)\n",
    "b_se = b_sd / np.sqrt(len(bradys['age']))\n",
    "\n",
    "print(b_mean)\n",
    "print(b_median)\n",
    "print(b_mode)\n",
    "\n",
    "print(\"variance: \",b_var_pop)\n",
    "print(\"Std Dev: \", b_sd_pop)\n",
    "\n",
    "print('SAMPLE')\n",
    "print(\"variance: \",b_var)\n",
    "print(\"Std Dev: \", b_sd)\n",
    "print(b_se)"
   ]
  },
  {
   "cell_type": "markdown",
   "metadata": {},
   "source": [
    "### Question 5"
   ]
  },
  {
   "cell_type": "markdown",
   "metadata": {},
   "source": [
    "There are a few problems with a using this data to estimate the percentage of people that were Brady Bunch fans. Some of the magazines are not that popular, and they all have widely varying (and immediately unavailable) reader numbers. One might guess that the TV Guide or E Weekly numbers are best representative, but it is hard to say."
   ]
  },
  {
   "cell_type": "markdown",
   "metadata": {},
   "source": [
    "## Discussions with David"
   ]
  },
  {
   "cell_type": "code",
   "execution_count": 55,
   "metadata": {},
   "outputs": [],
   "source": [
    "# brady data for discussion with David\n",
    "\n",
    "bradys = pd.DataFrame()\n",
    "\n",
    "bradys['age'] = [6, 1, 8, 10, 11, 12, 14]\n",
    "\n",
    "b_mean = np.mean(bradys['age']) \n",
    "b_median = np.median(bradys['age'])\n",
    "#b_mode = statistics.mode(bradys['age'])\n",
    "b_var_pop = np.var(bradys['age'])\n",
    "b_sd_pop = np.std(bradys['age'])\n",
    "\n",
    "\n",
    "b_var = np.var(bradys['age'], ddof=1)\n",
    "b_sd = np.std(bradys['age'], ddof=1)\n",
    "b_se = b_sd / np.sqrt(len(bradys['age']))\n"
   ]
  },
  {
   "cell_type": "code",
   "execution_count": 56,
   "metadata": {},
   "outputs": [
    {
     "data": {
      "text/plain": [
       "pandas.core.frame.DataFrame"
      ]
     },
     "execution_count": 56,
     "metadata": {},
     "output_type": "execute_result"
    }
   ],
   "source": [
    "type(bradys)"
   ]
  },
  {
   "cell_type": "code",
   "execution_count": null,
   "metadata": {},
   "outputs": [],
   "source": []
  },
  {
   "cell_type": "code",
   "execution_count": null,
   "metadata": {},
   "outputs": [],
   "source": []
  },
  {
   "cell_type": "code",
   "execution_count": 57,
   "metadata": {},
   "outputs": [
    {
     "data": {
      "text/plain": [
       "pandas.core.series.Series"
      ]
     },
     "execution_count": 57,
     "metadata": {},
     "output_type": "execute_result"
    }
   ],
   "source": [
    "type(bradys['age'])\n"
   ]
  },
  {
   "cell_type": "code",
   "execution_count": 58,
   "metadata": {},
   "outputs": [
    {
     "name": "stdout",
     "output_type": "stream",
     "text": [
      "0     6\n",
      "1     1\n",
      "2     8\n",
      "3    10\n",
      "4    11\n",
      "5    12\n",
      "6    14\n",
      "Name: age, dtype: int64\n"
     ]
    }
   ],
   "source": [
    "print(bradys['age'])\n"
   ]
  },
  {
   "cell_type": "code",
   "execution_count": 59,
   "metadata": {},
   "outputs": [
    {
     "data": {
      "text/plain": [
       "array([ 6,  1,  8, 10, 11, 12, 14])"
      ]
     },
     "execution_count": 59,
     "metadata": {},
     "output_type": "execute_result"
    }
   ],
   "source": [
    "np.asarray(bradys['age'])\n"
   ]
  },
  {
   "cell_type": "code",
   "execution_count": 60,
   "metadata": {},
   "outputs": [],
   "source": [
    "b_arr = np.asarray(bradys['age'])\n"
   ]
  },
  {
   "cell_type": "code",
   "execution_count": 61,
   "metadata": {},
   "outputs": [
    {
     "name": "stdout",
     "output_type": "stream",
     "text": [
      "[ 6  1  8 10 11 12 14]\n"
     ]
    }
   ],
   "source": [
    "print(b_arr)"
   ]
  },
  {
   "cell_type": "code",
   "execution_count": 62,
   "metadata": {},
   "outputs": [
    {
     "name": "stdout",
     "output_type": "stream",
     "text": [
      "10\n"
     ]
    }
   ],
   "source": [
    "print(b_arr[3])"
   ]
  },
  {
   "cell_type": "code",
   "execution_count": 63,
   "metadata": {},
   "outputs": [
    {
     "name": "stdout",
     "output_type": "stream",
     "text": [
      "10\n"
     ]
    }
   ],
   "source": [
    "print(bradys['age'][3])\n"
   ]
  },
  {
   "cell_type": "markdown",
   "metadata": {},
   "source": []
  }
 ],
 "metadata": {
  "kernelspec": {
   "display_name": "Python 3",
   "language": "python",
   "name": "python3"
  },
  "language_info": {
   "codemirror_mode": {
    "name": "ipython",
    "version": 3
   },
   "file_extension": ".py",
   "mimetype": "text/x-python",
   "name": "python",
   "nbconvert_exporter": "python",
   "pygments_lexer": "ipython3",
   "version": "3.6.5"
  }
 },
 "nbformat": 4,
 "nbformat_minor": 2
}
