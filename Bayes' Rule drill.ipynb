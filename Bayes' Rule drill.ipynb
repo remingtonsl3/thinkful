{
 "cells": [
  {
   "cell_type": "markdown",
   "metadata": {},
   "source": [
    "### Bayes Rule"
   ]
  },
  {
   "cell_type": "markdown",
   "metadata": {},
   "source": [
    "*Positive results:* 0.5% op the total poulation has the disease, and the test catches 98% of those. To this we add the 10% false poistive results of the 95.5% of the population that doesn't have it. \n",
    "\n",
    "**Total positives = 0.005 * 0.98 + 0.1 * 0.955 = 0.1004**\n",
    "\n",
    "*Correctly ID sufferers.* This is the **98 probablity of a positive result for sufferers listed in the description.**\n",
    "\n",
    "*Correctly ID non-sufferers.* This is the complement of the 10% false postive test listed in the description, so **90% of non-sufferers will be correctly identified.**\n",
    "\n",
    "*Misclassify the person*\n",
    "* 98% of the 0.5% off the population is correctly ID'd, so 2% is misclassified, i.e., .005 * .02 = .0001\n",
    "* Then, 10% of the other 95.5% is misclassified, 0.1 * .995 = 0.0995\n",
    "* This gives us a total of 0.0996, or 9.96%\n",
    "    \n"
   ]
  },
  {
   "cell_type": "markdown",
   "metadata": {},
   "source": [
    "*I'm not sure I get how the Bayes formula applies here.*"
   ]
  },
  {
   "cell_type": "code",
   "execution_count": null,
   "metadata": {},
   "outputs": [],
   "source": []
  }
 ],
 "metadata": {
  "kernelspec": {
   "display_name": "Python 3",
   "language": "python",
   "name": "python3"
  },
  "language_info": {
   "codemirror_mode": {
    "name": "ipython",
    "version": 3
   },
   "file_extension": ".py",
   "mimetype": "text/x-python",
   "name": "python",
   "nbconvert_exporter": "python",
   "pygments_lexer": "ipython3",
   "version": "3.6.5"
  }
 },
 "nbformat": 4,
 "nbformat_minor": 2
}
