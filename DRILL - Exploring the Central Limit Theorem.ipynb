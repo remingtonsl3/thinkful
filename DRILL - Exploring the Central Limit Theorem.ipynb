{
 "cells": [
  {
   "cell_type": "code",
   "execution_count": 20,
   "metadata": {},
   "outputs": [],
   "source": [
    "# Import all libraries needed for the tutorial\n",
    "import pandas as pd\n",
    "import numpy as np\n",
    "import matplotlib.pyplot as plt\n",
    "import scipy\n",
    "from scipy.stats import ttest_ind\n",
    "\n",
    "# Enable inline plotting\n",
    "%matplotlib inline \n"
   ]
  },
  {
   "cell_type": "code",
   "execution_count": 9,
   "metadata": {},
   "outputs": [
    {
     "name": "stdout",
     "output_type": "stream",
     "text": [
      "Mean 1, sample size 100: 2.13\n",
      "SD 1, sample size 100: 1.3240468269664787\n",
      "Mean 2, sample size 100: 4.88\n",
      "SD2 2, sample size 100: 1.6690116836020052\n",
      "Difference in sample means =  2.75\n"
     ]
    },
    {
     "data": {
      "image/png": "[encoded data removed]",
      "text/plain": [
       "<Figure size 432x288 with 1 Axes>"
      ]
     },
     "metadata": {},
     "output_type": "display_data"
    }
   ],
   "source": [
    "# create 2 binomial populations, p = 0.2, and p = 0.5\n",
    "pop1 = np.random.binomial(10, 0.2, 10000)\n",
    "pop2 = np.random.binomial(10 , 0.5, 10000)\n",
    "\n",
    "sample1 = np.random.choice(pop1, 100, replace=True)\n",
    "sample2 = np.random.choice(pop2, 100, replace=True)\n",
    "\n",
    "mean1 = sample1.mean()\n",
    "sd1 = sample1.std()\n",
    "\n",
    "mean2 = sample2.mean()\n",
    "sd2 = sample2.std()\n",
    "sm_diff = mean2 - mean1\n",
    "\n",
    "print('Mean 1, sample size 100:', mean1)\n",
    "print('SD 1, sample size 100:', sd1)\n",
    "print('Mean 2, sample size 100:', mean2)\n",
    "print('SD2 2, sample size 100:', sd2)\n",
    "print('Difference in sample means = ', sm_diff)\n",
    "\n",
    "\n",
    "\n",
    "# Plot a histogram.\n",
    "plt.hist(sample1, alpha=0.5, label='sample 1')\n",
    "plt.hist(sample2, alpha=0.5, label='sample 2')\n",
    "plt.legend(loc='upper right')\n",
    "# Print the histogram.\n",
    "plt.show()"
   ]
  },
  {
   "cell_type": "markdown",
   "metadata": {},
   "source": [
    "Now we are increasing our sample size from 100 to 1000. I expect that the means will get closer to the expected .2 and .5. The standard deviation won't change much."
   ]
  },
  {
   "cell_type": "code",
   "execution_count": 10,
   "metadata": {},
   "outputs": [
    {
     "name": "stdout",
     "output_type": "stream",
     "text": [
      "Mean 1, sample size 1000: 1.923\n",
      "SD 1, sample size 1000: 1.2308822039496712\n",
      "Mean 2, sample size 1000: 5.081\n",
      "SD2 2, sample size 1000: 1.5467511112005061\n",
      "Difference in sample means =  3.1580000000000004\n"
     ]
    },
    {
     "data": {
      "image/png": "[encoded data removed]",
      "text/plain": [
       "<Figure size 432x288 with 1 Axes>"
      ]
     },
     "metadata": {},
     "output_type": "display_data"
    }
   ],
   "source": [
    "sample1 = np.random.choice(pop1, 1000, replace=True)\n",
    "sample2 = np.random.choice(pop2, 1000, replace=True)\n",
    "\n",
    "mean1 = sample1.mean()\n",
    "sd1 = sample1.std()\n",
    "\n",
    "mean2 = sample2.mean()\n",
    "sd2 = sample2.std()\n",
    "\n",
    "sm_diff = mean2 - mean1\n",
    "\n",
    "print('Mean 1, sample size 1000:', mean1)\n",
    "print('SD 1, sample size 1000:', sd1)\n",
    "print('Mean 2, sample size 1000:', mean2)\n",
    "print('SD2 2, sample size 1000:', sd2)\n",
    "print('Difference in sample means = ', sm_diff)\n",
    "\n",
    "\n",
    "# Plot a histogram.\n",
    "plt.hist(sample1, alpha=0.5, label='sample 1')\n",
    "plt.hist(sample2, alpha=0.5, label='sample 2')\n",
    "plt.legend(loc='upper right')\n",
    "# Print the histogram.\n",
    "plt.show()"
   ]
  },
  {
   "cell_type": "markdown",
   "metadata": {},
   "source": [
    "Now we're going to change n to 20. I would expect that the means will vary more, sd the same."
   ]
  },
  {
   "cell_type": "code",
   "execution_count": 11,
   "metadata": {},
   "outputs": [
    {
     "name": "stdout",
     "output_type": "stream",
     "text": [
      "Mean 1, sample size 1000: 2.6\n",
      "SD 1, sample size 1000: 1.4966629547095767\n",
      "Mean 2, sample size 1000: 5.25\n",
      "SD2 2, sample size 1000: 1.4097872179871684\n",
      "Difference in sample means =  2.65\n"
     ]
    },
    {
     "data": {
      "image/png": "[encoded data removed]",
      "text/plain": [
       "<Figure size 432x288 with 1 Axes>"
      ]
     },
     "metadata": {},
     "output_type": "display_data"
    }
   ],
   "source": [
    "sample1 = np.random.choice(pop1, 20, replace=True)\n",
    "sample2 = np.random.choice(pop2, 20, replace=True)\n",
    "\n",
    "mean1 = sample1.mean()\n",
    "sd1 = sample1.std()\n",
    "\n",
    "mean2 = sample2.mean()\n",
    "sd2 = sample2.std()\n",
    "\n",
    "sm_diff = mean2 - mean1\n",
    "\n",
    "print('Mean 1, sample size 20:', mean1)\n",
    "print('SD 1, sample size 20:', sd1)\n",
    "print('Mean 2, sample size 20:', mean2)\n",
    "print('SD2 2, sample size 20:', sd2)\n",
    "print('Difference in sample means = ', sm_diff)\n",
    "\n",
    "\n",
    "# Plot a histogram.\n",
    "plt.hist(sample1, alpha=0.5, label='sample 1')\n",
    "plt.hist(sample2, alpha=0.5, label='sample 2')\n",
    "plt.legend(loc='upper right')\n",
    "# Print the histogram.\n",
    "plt.show()"
   ]
  },
  {
   "cell_type": "markdown",
   "metadata": {},
   "source": [
    "Change the probability value (p in the NumPy documentation) for pop1 to 0.3, then take new samples and compute the t-statistic and p-value. Then change the probability value p for group 1 to 0.4, and do it again. What changes, and why?"
   ]
  },
  {
   "cell_type": "code",
   "execution_count": 18,
   "metadata": {},
   "outputs": [
    {
     "name": "stdout",
     "output_type": "stream",
     "text": [
      "Mean 1, sample size 100: 1.82\n",
      "SD 1, sample size 100: 1.3295111883696202\n",
      "Mean 2, sample size 100: 4.81\n",
      "SD2 2, sample size 100: 1.5342424840943494\n",
      "Difference in sample means =  2.9899999999999993\n",
      "Ttest_indResult(statistic=14.654166900434713, pvalue=3.1453760441982645e-33)\n"
     ]
    },
    {
     "data": {
      "image/png": "[encoded data removed]",
      "text/plain": [
       "<Figure size 432x288 with 1 Axes>"
      ]
     },
     "metadata": {},
     "output_type": "display_data"
    }
   ],
   "source": [
    "# create 2 binomial populations, p = 0.3, and p = 0.5\n",
    "pop1 = np.random.binomial(10, 0.2, 10000)\n",
    "pop2 = np.random.binomial(10 , 0.5, 10000)\n",
    "\n",
    "sample1 = np.random.choice(pop1, 100, replace=True)\n",
    "sample2 = np.random.choice(pop2, 100, replace=True)\n",
    "\n",
    "mean1 = sample1.mean()\n",
    "sd1 = sample1.std()\n",
    "\n",
    "mean2 = sample2.mean()\n",
    "sd2 = sample2.std()\n",
    "sm_diff = mean2 - mean1\n",
    "\n",
    "print('Mean 1, sample size 100:', mean1)\n",
    "print('SD 1, sample size 100:', sd1)\n",
    "print('Mean 2, sample size 100:', mean2)\n",
    "print('SD2 2, sample size 100:', sd2)\n",
    "print('Difference in sample means = ', sm_diff)\n",
    "print(ttest_ind(sample2, sample1, equal_var=False))\n",
    "\n",
    "\n",
    "# Plot a histogram.\n",
    "plt.hist(sample1, alpha=0.5, label='sample 1')\n",
    "plt.hist(sample2, alpha=0.5, label='sample 2')\n",
    "plt.legend(loc='upper right')\n",
    "# Print the histogram.\n",
    "plt.show()"
   ]
  },
  {
   "cell_type": "code",
   "execution_count": 19,
   "metadata": {},
   "outputs": [
    {
     "name": "stdout",
     "output_type": "stream",
     "text": [
      "Mean 1, sample size 100: 1.6\n",
      "SD 1, sample size 100: 1.3114877048604003\n",
      "Mean 2, sample size 100: 5.06\n",
      "SD2 2, sample size 100: 1.5219724044804495\n",
      "Difference in sample means =  3.4599999999999995\n",
      "Ttest_indResult(statistic=17.135492741251475, pvalue=1.134331223329421e-40)\n"
     ]
    },
    {
     "data": {
      "image/png": "[encoded data removed]",
      "text/plain": [
       "<Figure size 432x288 with 1 Axes>"
      ]
     },
     "metadata": {},
     "output_type": "display_data"
    }
   ],
   "source": [
    "# create 2 binomial populations, p = 0.4, and p = 0.5\n",
    "pop1 = np.random.binomial(10, 0.2, 10000)\n",
    "pop2 = np.random.binomial(10 , 0.5, 10000)\n",
    "\n",
    "sample1 = np.random.choice(pop1, 100, replace=True)\n",
    "sample2 = np.random.choice(pop2, 100, replace=True)\n",
    "\n",
    "mean1 = sample1.mean()\n",
    "sd1 = sample1.std()\n",
    "\n",
    "mean2 = sample2.mean()\n",
    "sd2 = sample2.std()\n",
    "sm_diff = mean2 - mean1\n",
    "\n",
    "print('Mean 1, sample size 100:', mean1)\n",
    "print('SD 1, sample size 100:', sd1)\n",
    "print('Mean 2, sample size 100:', mean2)\n",
    "print('SD2 2, sample size 100:', sd2)\n",
    "print('Difference in sample means = ', sm_diff)\n",
    "print(ttest_ind(sample2, sample1, equal_var=False))\n",
    "\n",
    "\n",
    "# Plot a histogram.\n",
    "plt.hist(sample1, alpha=0.5, label='sample 1')\n",
    "plt.hist(sample2, alpha=0.5, label='sample 2')\n",
    "plt.legend(loc='upper right')\n",
    "# Print the histogram.\n",
    "plt.show()"
   ]
  },
  {
   "cell_type": "markdown",
   "metadata": {},
   "source": [
    "The p-value goes way up. Since the means are closer, it they overlap more and it is less likely that the samples differ by chance."
   ]
  },
  {
   "cell_type": "markdown",
   "metadata": {},
   "source": [
    "trying on a different distribution. Trying the gamma distribution."
   ]
  },
  {
   "cell_type": "code",
   "execution_count": 22,
   "metadata": {},
   "outputs": [
    {
     "name": "stdout",
     "output_type": "stream",
     "text": [
      "mean of pop1: 3.0219598850141085\n",
      "mean of pop2: 6.9472672328543705\n",
      "Mean 1, sample size 100: 3.1141908396926357\n",
      "SD 1, sample size 100: 1.8131831048252716\n",
      "Mean 2, sample size 100: 6.9725476284339845\n",
      "SD2 2, sample size 100: 2.624827554662556\n",
      "Difference in sample means =  3.858356788741349\n"
     ]
    },
    {
     "data": {
      "image/png": "[encoded data removed]",
      "text/plain": [
       "<Figure size 432x288 with 1 Axes>"
      ]
     },
     "metadata": {},
     "output_type": "display_data"
    }
   ],
   "source": [
    "# create 2 binomial populations, p = 0.2, and p = 0.5\n",
    "pop1 = np.random.gamma(3, 1, 10000)\n",
    "pop2 = np.random.gamma(7, 1, 10000)\n",
    "\n",
    "sample1 = np.random.choice(pop1, 1000, replace=True)\n",
    "sample2 = np.random.choice(pop2, 1000, replace=True)\n",
    "\n",
    "mean1 = sample1.mean()\n",
    "sd1 = sample1.std()\n",
    "\n",
    "mean2 = sample2.mean()\n",
    "sd2 = sample2.std()\n",
    "sm_diff = mean2 - mean1\n",
    "\n",
    "print('mean of pop1:', pop1.mean())\n",
    "print('mean of pop2:', pop2.mean())\n",
    "print('Mean 1, sample size 100:', mean1)\n",
    "print('SD 1, sample size 100:', sd1)\n",
    "print('Mean 2, sample size 100:', mean2)\n",
    "print('SD2 2, sample size 100:', sd2)\n",
    "print('Difference in sample means = ', sm_diff)\n",
    "\n",
    "\n",
    "\n",
    "# Plot a histogram.\n",
    "plt.hist(sample1, alpha=0.5, label='sample 1')\n",
    "plt.hist(sample2, alpha=0.5, label='sample 2')\n",
    "plt.legend(loc='upper right')\n",
    "# Print the histogram.\n",
    "plt.show()"
   ]
  },
  {
   "cell_type": "markdown",
   "metadata": {},
   "source": [
    "Looks good. The means of pop1/sample1 and pop2/sample2 are close to the same, as the CLT predicts."
   ]
  },
  {
   "cell_type": "code",
   "execution_count": null,
   "metadata": {},
   "outputs": [],
   "source": []
  }
 ],
 "metadata": {
  "kernelspec": {
   "display_name": "Python 3",
   "language": "python",
   "name": "python3"
  },
  "language_info": {
   "codemirror_mode": {
    "name": "ipython",
    "version": 3
   },
   "file_extension": ".py",
   "mimetype": "text/x-python",
   "name": "python",
   "nbconvert_exporter": "python",
   "pygments_lexer": "ipython3",
   "version": "3.6.5"
  }
 },
 "nbformat": 4,
 "nbformat_minor": 2
}
